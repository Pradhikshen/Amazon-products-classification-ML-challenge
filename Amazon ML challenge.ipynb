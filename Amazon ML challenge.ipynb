{
 "cells": [
  {
   "cell_type": "code",
   "execution_count": 1,
   "id": "b913198c",
   "metadata": {
    "_cell_guid": "b1076dfc-b9ad-4769-8c92-a6c4dae69d19",
    "_uuid": "8f2839f25d086af736a60e9eeb907d3b93b6e0e5",
    "execution": {
     "iopub.execute_input": "2021-07-31T17:53:22.640108Z",
     "iopub.status.busy": "2021-07-31T17:53:22.638960Z",
     "iopub.status.idle": "2021-07-31T17:53:44.246153Z",
     "shell.execute_reply": "2021-07-31T17:53:44.245497Z",
     "shell.execute_reply.started": "2021-07-31T17:43:32.442531Z"
    },
    "papermill": {
     "duration": 21.622976,
     "end_time": "2021-07-31T17:53:44.246321",
     "exception": false,
     "start_time": "2021-07-31T17:53:22.623345",
     "status": "completed"
    },
    "tags": []
   },
   "outputs": [
    {
     "name": "stdout",
     "output_type": "stream",
     "text": [
      "[nltk_data] Error loading stopwords: <urlopen error [Errno -3]\n",
      "[nltk_data]     Temporary failure in name resolution>\n",
      "/kaggle/input/amazon-ml-challenge-2021-hackerearth/sample_submission.csv\n",
      "/kaggle/input/amazon-ml-challenge-2021-hackerearth/train.csv\n",
      "/kaggle/input/amazon-ml-challenge-2021-hackerearth/test.csv\n"
     ]
    }
   ],
   "source": [
    "# This Python 3 environment comes with many helpful analytics libraries installed\n",
    "# It is defined by the kaggle/python Docker image: https://github.com/kaggle/docker-python\n",
    "# For example, here's several helpful packages to load\n",
    "\n",
    "import numpy as np # linear algebra\n",
    "import pandas as pd # data processing, CSV file I/O (e.g. pd.read_csv)\n",
    "import csv\n",
    "from nltk.tokenize import word_tokenize\n",
    "from nltk import pos_tag\n",
    "from nltk.corpus import stopwords\n",
    "from nltk.stem import WordNetLemmatizer\n",
    "from sklearn.preprocessing import LabelEncoder\n",
    "from collections import defaultdict\n",
    "from nltk.corpus import wordnet as wn\n",
    "from sklearn.feature_extraction.text import TfidfVectorizer\n",
    "from sklearn import model_selection, naive_bayes, svm\n",
    "from sklearn.metrics import accuracy_score\n",
    "from sklearn.pipeline import Pipeline\n",
    "import nltk\n",
    "from sklearn.model_selection import train_test_split\n",
    "nltk.download('stopwords')\n",
    "from sklearn.multiclass import OneVsRestClassifier\n",
    "from sklearn.pipeline import make_pipeline\n",
    "from sklearn.feature_extraction.text import CountVectorizer\n",
    "from sklearn.naive_bayes import MultinomialNB\n",
    "\n",
    "# Input data files are available in the read-only \"../input/\" directory\n",
    "# For example, running this (by clicking run or pressing Shift+Enter) will list all files under the input directory\n",
    "\n",
    "import os\n",
    "for dirname, _, filenames in os.walk('/kaggle/input'):\n",
    "    for filename in filenames:\n",
    "        print(os.path.join(dirname, filename))\n",
    "\n",
    "# You can write up to 20GB to the current directory (/kaggle/working/) that gets preserved as output when you create a version using \"Save & Run All\" \n",
    "# You can also write temporary files to /kaggle/temp/, but they won't be saved outside of the current session"
   ]
  },
  {
   "cell_type": "code",
   "execution_count": 2,
   "id": "dbc314ad",
   "metadata": {
    "execution": {
     "iopub.execute_input": "2021-07-31T17:53:44.276559Z",
     "iopub.status.busy": "2021-07-31T17:53:44.275934Z",
     "iopub.status.idle": "2021-07-31T17:54:53.858708Z",
     "shell.execute_reply": "2021-07-31T17:54:53.858110Z",
     "shell.execute_reply.started": "2021-07-31T17:43:58.285465Z"
    },
    "papermill": {
     "duration": 69.600232,
     "end_time": "2021-07-31T17:54:53.858868",
     "exception": false,
     "start_time": "2021-07-31T17:53:44.258636",
     "status": "completed"
    },
    "tags": []
   },
   "outputs": [
    {
     "name": "stderr",
     "output_type": "stream",
     "text": [
      "/opt/conda/lib/python3.7/site-packages/IPython/core/interactiveshell.py:3170: DtypeWarning: Columns (4) have mixed types.Specify dtype option on import or set low_memory=False.\n",
      "  interactivity=interactivity, compiler=compiler, result=result)\n"
     ]
    },
    {
     "name": "stdout",
     "output_type": "stream",
     "text": [
      "(2903025, 5)\n",
      "(110776, 5)\n"
     ]
    }
   ],
   "source": [
    "train_data = pd.read_csv('../input/amazon-ml-challenge-2021-hackerearth/train.csv',sep=',', header=None,escapechar=\"\\\\\",quoting=csv.QUOTE_NONE,error_bad_lines=False)\n",
    "print(train_data.shape)\n",
    "\n",
    "test_data = pd.read_csv('../input/amazon-ml-challenge-2021-hackerearth/test.csv',sep=',', header=None,escapechar=\"\\\\\",quoting=csv.QUOTE_NONE,error_bad_lines=False)\n",
    "print(test_data.shape)\n"
   ]
  },
  {
   "cell_type": "code",
   "execution_count": 3,
   "id": "56c524ed",
   "metadata": {
    "execution": {
     "iopub.execute_input": "2021-07-31T17:54:53.887125Z",
     "iopub.status.busy": "2021-07-31T17:54:53.886494Z",
     "iopub.status.idle": "2021-07-31T17:54:53.918084Z",
     "shell.execute_reply": "2021-07-31T17:54:53.918573Z",
     "shell.execute_reply.started": "2021-07-31T17:50:46.334076Z"
    },
    "papermill": {
     "duration": 0.047226,
     "end_time": "2021-07-31T17:54:53.918736",
     "exception": false,
     "start_time": "2021-07-31T17:54:53.871510",
     "status": "completed"
    },
    "tags": []
   },
   "outputs": [
    {
     "name": "stderr",
     "output_type": "stream",
     "text": [
      "/opt/conda/lib/python3.7/site-packages/ipykernel_launcher.py:3: FutureWarning: Passing a negative integer is deprecated in version 1.0 and will not be supported in future version. Instead, use None to not limit the column width.\n",
      "  This is separate from the ipykernel package so we can avoid doing imports until\n"
     ]
    }
   ],
   "source": [
    "pd.set_option('display.width', 500)\n",
    "pd.set_option(\"display.max_rows\", None)\n",
    "pd.set_option(\"display.max_colwidth\", -1)\n",
    "train_data = train_data.iloc[1:80000 , :]\n",
    "train = train_data.iloc[0:50000,:]\n",
    "test = train_data.iloc[50001:80000,:]\n",
    "test_data = test\n",
    "train_data = train\n",
    "\n",
    "# print(test_data.iloc[0:10,1])\n"
   ]
  },
  {
   "cell_type": "code",
   "execution_count": 4,
   "id": "3a4f7679",
   "metadata": {
    "execution": {
     "iopub.execute_input": "2021-07-31T17:54:53.953912Z",
     "iopub.status.busy": "2021-07-31T17:54:53.953240Z",
     "iopub.status.idle": "2021-07-31T17:54:53.961574Z",
     "shell.execute_reply": "2021-07-31T17:54:53.961052Z",
     "shell.execute_reply.started": "2021-07-31T17:50:50.649941Z"
    },
    "papermill": {
     "duration": 0.02981,
     "end_time": "2021-07-31T17:54:53.961709",
     "exception": false,
     "start_time": "2021-07-31T17:54:53.931899",
     "status": "completed"
    },
    "tags": []
   },
   "outputs": [
    {
     "name": "stdout",
     "output_type": "stream",
     "text": [
      "TITLE\n",
      "DESCRIPTION\n",
      "BULLET_POINTS\n",
      "BRAND\n",
      "BROWSE_NODE_ID\n",
      "TITLE\n",
      "DESCRIPTION\n",
      "BULLET_POINTS\n",
      "BRAND\n",
      "BROWSE_NODE_ID\n"
     ]
    }
   ],
   "source": [
    "train_data.rename(columns={0: 'TITLE',1:\"DESCRIPTION\",2:\"BULLET_POINTS\",3:\"BRAND\",4:\"BROWSE_NODE_ID\"},inplace = True)\n",
    "test_data.rename(columns={0: 'TITLE',1:\"DESCRIPTION\",2:\"BULLET_POINTS\",3:\"BRAND\",4:\"BROWSE_NODE_ID\"},inplace = True)\n",
    "for col in train_data.columns:\n",
    "    print(col)\n",
    "for col in test_data.columns:\n",
    "    print(col)    "
   ]
  },
  {
   "cell_type": "code",
   "execution_count": 5,
   "id": "fd6c01c6",
   "metadata": {
    "execution": {
     "iopub.execute_input": "2021-07-31T17:54:54.025556Z",
     "iopub.status.busy": "2021-07-31T17:54:53.992976Z",
     "iopub.status.idle": "2021-07-31T17:54:54.062861Z",
     "shell.execute_reply": "2021-07-31T17:54:54.062287Z",
     "shell.execute_reply.started": "2021-07-31T17:51:08.677463Z"
    },
    "papermill": {
     "duration": 0.088016,
     "end_time": "2021-07-31T17:54:54.063013",
     "exception": false,
     "start_time": "2021-07-31T17:54:53.974997",
     "status": "completed"
    },
    "tags": []
   },
   "outputs": [],
   "source": [
    "train_data.fillna(\"empty\",inplace = True)\n",
    "test_data.fillna(\"empty\",inplace = True)"
   ]
  },
  {
   "cell_type": "code",
   "execution_count": 6,
   "id": "e3e85694",
   "metadata": {
    "execution": {
     "iopub.execute_input": "2021-07-31T17:54:54.094744Z",
     "iopub.status.busy": "2021-07-31T17:54:54.093843Z",
     "iopub.status.idle": "2021-07-31T17:54:54.096925Z",
     "shell.execute_reply": "2021-07-31T17:54:54.096338Z"
    },
    "papermill": {
     "duration": 0.020587,
     "end_time": "2021-07-31T17:54:54.097055",
     "exception": false,
     "start_time": "2021-07-31T17:54:54.076468",
     "status": "completed"
    },
    "tags": []
   },
   "outputs": [],
   "source": [
    "# test_data = test_data.iloc[0:50000,:]\n",
    "# train_data = train_data.iloc[0:50000,:]"
   ]
  },
  {
   "cell_type": "code",
   "execution_count": 7,
   "id": "5d6e3518",
   "metadata": {
    "execution": {
     "iopub.execute_input": "2021-07-31T17:54:54.136124Z",
     "iopub.status.busy": "2021-07-31T17:54:54.132244Z",
     "iopub.status.idle": "2021-07-31T17:54:54.145090Z",
     "shell.execute_reply": "2021-07-31T17:54:54.145556Z",
     "shell.execute_reply.started": "2021-07-31T17:51:14.905520Z"
    },
    "papermill": {
     "duration": 0.034997,
     "end_time": "2021-07-31T17:54:54.145743",
     "exception": false,
     "start_time": "2021-07-31T17:54:54.110746",
     "status": "completed"
    },
    "tags": []
   },
   "outputs": [],
   "source": [
    "X_train = train_data.iloc[:,0:4]\n",
    "Y_train = train_data.iloc[:,4]\n",
    "Test_X = test_data.iloc[:,0:4]\n",
    "Test_Y = test_data.iloc[:,4]"
   ]
  },
  {
   "cell_type": "code",
   "execution_count": 8,
   "id": "972b8027",
   "metadata": {
    "execution": {
     "iopub.execute_input": "2021-07-31T17:54:54.184602Z",
     "iopub.status.busy": "2021-07-31T17:54:54.183960Z",
     "iopub.status.idle": "2021-07-31T17:54:54.186976Z",
     "shell.execute_reply": "2021-07-31T17:54:54.187412Z",
     "shell.execute_reply.started": "2021-07-31T17:51:16.467244Z"
    },
    "papermill": {
     "duration": 0.028244,
     "end_time": "2021-07-31T17:54:54.187575",
     "exception": false,
     "start_time": "2021-07-31T17:54:54.159331",
     "status": "completed"
    },
    "tags": []
   },
   "outputs": [
    {
     "name": "stdout",
     "output_type": "stream",
     "text": [
      "1     Pete The Cat Bedtime Blues Doll, 14.5 Inch                                                                                              \n",
      "2     The New Yorker NYHM014 Refrigerator Magnet, 2 x 3.5                                                                                     \n",
      "3     The Ultimate Self-Sufficiency Handbook: A Complete Guide to Baking, Crafts, Gardening, Preserving Your Harvest, Raising Animals and More\n",
      "4     Amway Nutrilite Kids Chewable Iron Tablets (100)                                                                                        \n",
      "5     Teacher Planner Company A4 6 Lesson Academic Teacher Planner - Leatherette Pink                                                         \n",
      "6     Men'S Full Sleeve Raglan T-Shirts Denim T-Shirt M Size Only                                                                             \n",
      "7     Glance Women's Wallet (Black) (LW-21)                                                                                                   \n",
      "8     Wild Animals Hungry Brain Educational Flash Cards for Enhancing Early Learning of Your Kids(3 Month to 6 Year)                          \n",
      "9     Hindi Barakhadi Educational Flash Cards for Kids Enhance Early Learning of Your Kids (3 Months to 6 Years)                              \n",
      "10    Chapin 1380 Premier Pro 3-Gallon Tri-Poxy Steel Sprayer for Fertilizer                                                                  \n",
      "Name: TITLE, dtype: object\n",
      "50002    For BMW E46 E90 E92 E93 F30 F35 318i 320i Right hand drive Carbon Fiber car genneral Gear Shift Knob Cover Car Interior A-Style Color Name Gear Shift Cover\n",
      "50003    Girls Shopping Black Casual Stylish Cotton Leggings for Girls 12-13 Years                                                                                  \n",
      "50004    Twist Mens Grey Checked Cotton Comfort Night Western Global Desi Wear Pyjama Pant                                                                          \n",
      "50005    ArtzFolio Fantasy Tree House D2 Unframed Canvas Painting 24 X 30Inch                                                                                       \n",
      "50006    Elendra Women's Midi Dungaree                                                                                                                              \n",
      "50007    PVS Warm White- tall version- modern design led garden lawn light waterproof landscape lighting aluminum garden light                                      \n",
      "50008    ArtzFolio Ethnic Decorative Feathers Hanging On Threads Canvas Painting 1Inch Wood Stretching 28 X 28Inch                                                  \n",
      "50009    MAHENDRA INTERPRAISES Plastic MI-Gas Stove Knob (Black) -Pack of 2                                                                                         \n",
      "50010    Tingtong Full Glue, Full Coverage Edge-to-Edge 5D Tempered Glass Screen Protector for Samsung Galaxy C7 Pro (Black)                                        \n",
      "50011    9.25 Carat Ruby/Manik Lab Certified Natural Gemstone For Astrological Purpose By Stonefound                                                                \n",
      "Name: TITLE, dtype: object\n"
     ]
    }
   ],
   "source": [
    "X_train = X_train['TITLE']\n",
    "Test_X = Test_X['TITLE']\n",
    "print(X_train.iloc[0:10])\n",
    "print(Test_X.iloc[0:10])"
   ]
  },
  {
   "cell_type": "code",
   "execution_count": 9,
   "id": "38c4753f",
   "metadata": {
    "execution": {
     "iopub.execute_input": "2021-07-31T17:54:54.221141Z",
     "iopub.status.busy": "2021-07-31T17:54:54.220409Z",
     "iopub.status.idle": "2021-07-31T17:54:54.225334Z",
     "shell.execute_reply": "2021-07-31T17:54:54.224731Z",
     "shell.execute_reply.started": "2021-07-31T17:51:18.823574Z"
    },
    "papermill": {
     "duration": 0.023548,
     "end_time": "2021-07-31T17:54:54.225463",
     "exception": false,
     "start_time": "2021-07-31T17:54:54.201915",
     "status": "completed"
    },
    "tags": []
   },
   "outputs": [
    {
     "name": "stdout",
     "output_type": "stream",
     "text": [
      "(50000,)\n",
      "(50000,)\n",
      "(29998,)\n",
      "(29998,)\n"
     ]
    }
   ],
   "source": [
    "print(X_train.shape)\n",
    "print(Y_train.shape)\n",
    "print(Test_X.shape)\n",
    "print(Test_Y.shape)"
   ]
  },
  {
   "cell_type": "code",
   "execution_count": 10,
   "id": "57fb395f",
   "metadata": {
    "execution": {
     "iopub.execute_input": "2021-07-31T17:54:54.257457Z",
     "iopub.status.busy": "2021-07-31T17:54:54.256841Z",
     "iopub.status.idle": "2021-07-31T17:54:54.260061Z",
     "shell.execute_reply": "2021-07-31T17:54:54.259168Z",
     "shell.execute_reply.started": "2021-07-31T17:36:36.197822Z"
    },
    "papermill": {
     "duration": 0.020861,
     "end_time": "2021-07-31T17:54:54.260204",
     "exception": false,
     "start_time": "2021-07-31T17:54:54.239343",
     "status": "completed"
    },
    "tags": []
   },
   "outputs": [],
   "source": [
    "# X_train['TITLE']= X_train['TITLE'].apply(lambda x: x.lower())\n",
    "# X_train['DESCRIPTION']= X_train['DESCRIPTION'].apply(lambda x: x.lower())\n",
    "# X_train['BULLET_POINTS']= X_train['BULLET_POINTS'].apply(lambda x: x.lower())\n",
    "# X_train['BRAND']= X_train['BRAND'].apply(lambda x: x.lower())\n",
    "\n",
    "\n",
    "# Test_X['TITLE']= Test_X['TITLE'].apply(lambda x: x.lower())\n",
    "# Test_X['DESCRIPTION']= Test_X['DESCRIPTION'].apply(lambda x: x.lower())\n",
    "# Test_X['BULLET_POINTS']= Test_X['BULLET_POINTS'].apply(lambda x: x.lower())\n",
    "# Test_X['BRAND']= Test_X['BRAND'].apply(lambda x: x.lower())"
   ]
  },
  {
   "cell_type": "code",
   "execution_count": null,
   "id": "35d6f3c6",
   "metadata": {
    "papermill": {
     "duration": 0.013706,
     "end_time": "2021-07-31T17:54:54.288021",
     "exception": false,
     "start_time": "2021-07-31T17:54:54.274315",
     "status": "completed"
    },
    "tags": []
   },
   "outputs": [],
   "source": []
  },
  {
   "cell_type": "code",
   "execution_count": 11,
   "id": "69fab511",
   "metadata": {
    "execution": {
     "iopub.execute_input": "2021-07-31T17:54:54.354730Z",
     "iopub.status.busy": "2021-07-31T17:54:54.349577Z",
     "iopub.status.idle": "2021-07-31T17:54:57.391437Z",
     "shell.execute_reply": "2021-07-31T17:54:57.390769Z",
     "shell.execute_reply.started": "2021-07-31T17:51:24.661498Z"
    },
    "papermill": {
     "duration": 3.089612,
     "end_time": "2021-07-31T17:54:57.391571",
     "exception": false,
     "start_time": "2021-07-31T17:54:54.301959",
     "status": "completed"
    },
    "tags": []
   },
   "outputs": [],
   "source": [
    "# cvec = CountVectorizer()\n",
    "# # df_train = pd.DataFrame(cvec.transform(X_train).todense(),columns = cvec.get_feature_names())\n",
    "# # df_test = pd.DataFrame(cvec.transform(Test_X).todense(),columns = cvec.get_feature_names())\n",
    "# # print(df_train.shape)\n",
    "# # print(df_test.shape)\n",
    "\n",
    "Tfidf_vect = TfidfVectorizer(max_features=5000)\n",
    "Tfidf_vect.fit(X_train)\n",
    "Train_X_Tfidf = Tfidf_vect.transform(X_train)\n",
    "Test_X_Tfidf = Tfidf_vect.transform(Test_X)\n"
   ]
  },
  {
   "cell_type": "code",
   "execution_count": 12,
   "id": "7d114e0d",
   "metadata": {
    "execution": {
     "iopub.execute_input": "2021-07-31T17:54:57.425974Z",
     "iopub.status.busy": "2021-07-31T17:54:57.425110Z",
     "iopub.status.idle": "2021-07-31T17:55:15.226234Z",
     "shell.execute_reply": "2021-07-31T17:55:15.225360Z",
     "shell.execute_reply.started": "2021-07-31T17:51:29.059162Z"
    },
    "papermill": {
     "duration": 17.820572,
     "end_time": "2021-07-31T17:55:15.226380",
     "exception": false,
     "start_time": "2021-07-31T17:54:57.405808",
     "status": "completed"
    },
    "tags": []
   },
   "outputs": [
    {
     "name": "stdout",
     "output_type": "stream",
     "text": [
      "Naive Bayes Accuracy Score ->  32.138809253950264\n"
     ]
    }
   ],
   "source": [
    "\n",
    "# model = make_pipeline(TfidfVectorizer(), MultinomialNB())\n",
    "# model.fit(cvec.fit_transform(X_train), Y_train)\n",
    "# predicted_categories = model.predict(df_test['TITLE'])\n",
    "\n",
    "# print(\"The accuracy is {}\".format(accuracy_score(Test_Y['TITLE'], predicted_categories)))\n",
    "\n",
    "\n",
    "Naive = naive_bayes.MultinomialNB()\n",
    "Naive.fit(Train_X_Tfidf,Y_train)\n",
    "\n",
    "predictions_NB = Naive.predict(Test_X_Tfidf)\n",
    "\n",
    "print(\"Naive Bayes Accuracy Score -> \",accuracy_score(predictions_NB, Test_Y)*100)"
   ]
  }
 ],
 "metadata": {
  "kernelspec": {
   "display_name": "Python 3",
   "language": "python",
   "name": "python3"
  },
  "language_info": {
   "codemirror_mode": {
    "name": "ipython",
    "version": 3
   },
   "file_extension": ".py",
   "mimetype": "text/x-python",
   "name": "python",
   "nbconvert_exporter": "python",
   "pygments_lexer": "ipython3",
   "version": "3.7.10"
  },
  "papermill": {
   "default_parameters": {},
   "duration": 122.651155,
   "end_time": "2021-07-31T17:55:17.461899",
   "environment_variables": {},
   "exception": null,
   "input_path": "__notebook__.ipynb",
   "output_path": "__notebook__.ipynb",
   "parameters": {},
   "start_time": "2021-07-31T17:53:14.810744",
   "version": "2.3.3"
  }
 },
 "nbformat": 4,
 "nbformat_minor": 5
}
